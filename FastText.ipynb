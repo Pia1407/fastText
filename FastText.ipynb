{
 "cells": [
  {
   "cell_type": "code",
   "execution_count": 2,
   "id": "58a7346f",
   "metadata": {},
   "outputs": [],
   "source": [
    "import pandas as pd"
   ]
  },
  {
   "cell_type": "code",
   "execution_count": 18,
   "id": "d7f08054",
   "metadata": {},
   "outputs": [
    {
     "data": {
      "text/html": [
       "<div>\n",
       "<style scoped>\n",
       "    .dataframe tbody tr th:only-of-type {\n",
       "        vertical-align: middle;\n",
       "    }\n",
       "\n",
       "    .dataframe tbody tr th {\n",
       "        vertical-align: top;\n",
       "    }\n",
       "\n",
       "    .dataframe thead th {\n",
       "        text-align: right;\n",
       "    }\n",
       "</style>\n",
       "<table border=\"1\" class=\"dataframe\">\n",
       "  <thead>\n",
       "    <tr style=\"text-align: right;\">\n",
       "      <th></th>\n",
       "      <th>Category</th>\n",
       "      <th>Description</th>\n",
       "    </tr>\n",
       "  </thead>\n",
       "  <tbody>\n",
       "    <tr>\n",
       "      <th>0</th>\n",
       "      <td>Household</td>\n",
       "      <td>Paper Plane Design Framed Wall Hanging Motivat...</td>\n",
       "    </tr>\n",
       "    <tr>\n",
       "      <th>1</th>\n",
       "      <td>Household</td>\n",
       "      <td>SAF 'Floral' Framed Painting (Wood, 30 inch x ...</td>\n",
       "    </tr>\n",
       "    <tr>\n",
       "      <th>2</th>\n",
       "      <td>Household</td>\n",
       "      <td>SAF 'UV Textured Modern Art Print Framed' Pain...</td>\n",
       "    </tr>\n",
       "    <tr>\n",
       "      <th>3</th>\n",
       "      <td>Household</td>\n",
       "      <td>SAF Flower Print Framed Painting (Synthetic, 1...</td>\n",
       "    </tr>\n",
       "    <tr>\n",
       "      <th>4</th>\n",
       "      <td>Household</td>\n",
       "      <td>Incredible Gifts India Wooden Happy Birthday U...</td>\n",
       "    </tr>\n",
       "    <tr>\n",
       "      <th>...</th>\n",
       "      <td>...</td>\n",
       "      <td>...</td>\n",
       "    </tr>\n",
       "    <tr>\n",
       "      <th>50428</th>\n",
       "      <td>Electronics</td>\n",
       "      <td>Strontium MicroSD Class 10 8GB Memory Card (Bl...</td>\n",
       "    </tr>\n",
       "    <tr>\n",
       "      <th>50429</th>\n",
       "      <td>Electronics</td>\n",
       "      <td>CrossBeats Wave Waterproof Bluetooth Wireless ...</td>\n",
       "    </tr>\n",
       "    <tr>\n",
       "      <th>50430</th>\n",
       "      <td>Electronics</td>\n",
       "      <td>Karbonn Titanium Wind W4 (White) Karbonn Titan...</td>\n",
       "    </tr>\n",
       "    <tr>\n",
       "      <th>50431</th>\n",
       "      <td>Electronics</td>\n",
       "      <td>Samsung Guru FM Plus (SM-B110E/D, Black) Colou...</td>\n",
       "    </tr>\n",
       "    <tr>\n",
       "      <th>50432</th>\n",
       "      <td>Electronics</td>\n",
       "      <td>Micromax Canvas Win W121 (White)</td>\n",
       "    </tr>\n",
       "  </tbody>\n",
       "</table>\n",
       "<p>50433 rows × 2 columns</p>\n",
       "</div>"
      ],
      "text/plain": [
       "          Category                                        Description\n",
       "0        Household  Paper Plane Design Framed Wall Hanging Motivat...\n",
       "1        Household  SAF 'Floral' Framed Painting (Wood, 30 inch x ...\n",
       "2        Household  SAF 'UV Textured Modern Art Print Framed' Pain...\n",
       "3        Household  SAF Flower Print Framed Painting (Synthetic, 1...\n",
       "4        Household  Incredible Gifts India Wooden Happy Birthday U...\n",
       "...            ...                                                ...\n",
       "50428  Electronics  Strontium MicroSD Class 10 8GB Memory Card (Bl...\n",
       "50429  Electronics  CrossBeats Wave Waterproof Bluetooth Wireless ...\n",
       "50430  Electronics  Karbonn Titanium Wind W4 (White) Karbonn Titan...\n",
       "50431  Electronics  Samsung Guru FM Plus (SM-B110E/D, Black) Colou...\n",
       "50432  Electronics                   Micromax Canvas Win W121 (White)\n",
       "\n",
       "[50433 rows x 2 columns]"
      ]
     },
     "execution_count": 18,
     "metadata": {},
     "output_type": "execute_result"
    }
   ],
   "source": [
    "data = pd.read_csv(\"Book1.csv\")\n",
    "data"
   ]
  },
  {
   "cell_type": "code",
   "execution_count": 20,
   "id": "be7b6dde",
   "metadata": {},
   "outputs": [
    {
     "name": "stdout",
     "output_type": "stream",
     "text": [
      "          Category                                       cleaned_text\n",
      "50428  Electronics  strontium microsd class 10 8gb memory card bla...\n",
      "50429  Electronics  crossbeats wave waterproof bluetooth wireless ...\n",
      "50430  Electronics  karbonn titanium wind w4 white karbonn titaniu...\n",
      "50431  Electronics  samsung guru fm plus smb110ed black colourblac...\n",
      "50432  Electronics                     micromax canvas win w121 white\n"
     ]
    }
   ],
   "source": [
    "import re\n",
    "import pandas as pd\n",
    "\n",
    "# Define the cleaning function\n",
    "def clean_text(text):\n",
    "    if isinstance(text, str):  # Check if text is a string\n",
    "        text = re.sub(r'[^\\w\\s]', '', text)  # Keep only words and spaces\n",
    "        text = re.sub(r'\\s+', ' ', text)  # Replace multiple spaces with a single space\n",
    "        return text.strip().lower()  # Convert to lowercase and strip leading/trailing spaces\n",
    "    return text\n",
    "\n",
    "# Apply cleaning to the 'Description' column and store in a new 'cleaned_text' column\n",
    "data['cleaned_text'] = data['Description'].apply(clean_text)\n",
    "\n",
    "# Select only 'Category' and 'cleaned_text' for the final DataFrame\n",
    "final_data = data[['Category', 'cleaned_text']]\n",
    "\n",
    "# Display the first few rows of the final DataFrame\n",
    "print(final_data.tail())\n"
   ]
  },
  {
   "cell_type": "code",
   "execution_count": 23,
   "id": "d20cc78d",
   "metadata": {},
   "outputs": [
    {
     "name": "stdout",
     "output_type": "stream",
     "text": [
      "fastText formatted data has been saved to 'fasttext_data.txt'\n"
     ]
    }
   ],
   "source": [
    "\n",
    "# Define the format conversion function for fastText\n",
    "def convert_to_fasttext(row):\n",
    "    return f\"__label__{row['Category']} {row['cleaned_text']}\"\n",
    "\n",
    "# Apply the function to each row and create a list of formatted strings\n",
    "fasttext_data = final_data.apply(convert_to_fasttext, axis=1)\n",
    "\n",
    "# Save the data to a .txt file in fastText format\n",
    "with open('fasttext_data.txt', 'w', encoding='utf-8') as file:\n",
    "    for line in fasttext_data:\n",
    "        file.write(line + '\\n')\n",
    "\n",
    "print(\"fastText formatted data has been saved to 'fasttext_data.txt'\")\n"
   ]
  },
  {
   "cell_type": "code",
   "execution_count": 32,
   "id": "d2e16d91",
   "metadata": {},
   "outputs": [],
   "source": [
    "import random\n",
    "\n",
    "def split_txt_file(input_file, train_file, test_file, val_file, train_ratio=0.8, test_ratio=0.1):\n",
    "    # Read the data from the input file\n",
    "    with open(input_file, 'r', encoding='utf-8') as f:\n",
    "        lines = f.readlines()\n",
    "    \n",
    "    # Shuffle the lines\n",
    "    random.shuffle(lines)\n",
    "    \n",
    "    # Calculate the number of samples for each split\n",
    "    total_samples = len(lines)\n",
    "    train_size = int(total_samples * train_ratio)\n",
    "    test_size = int(total_samples * test_ratio)\n",
    "    val_size = total_samples - train_size - test_size  # Remaining lines for validation\n",
    "\n",
    "    # Create the splits\n",
    "    train_lines = lines[:train_size]\n",
    "    test_lines = lines[train_size:train_size + test_size]\n",
    "    val_lines = lines[train_size + test_size:]\n",
    "\n",
    "    # Write the train, test, and validation files\n",
    "    with open(train_file, 'w', encoding='utf-8') as f:\n",
    "        f.writelines(train_lines)\n",
    "    \n",
    "    with open(test_file, 'w', encoding='utf-8') as f:\n",
    "        f.writelines(test_lines)\n",
    "\n",
    "    with open(val_file, 'w', encoding='utf-8') as f:\n",
    "        f.writelines(val_lines)\n",
    "\n",
    "\n",
    "# Corrected example usage\n",
    "split_txt_file('fasttext_data.txt', 'train.txt', 'test.txt', 'val.txt')\n"
   ]
  },
  {
   "cell_type": "code",
   "execution_count": 29,
   "id": "4a754500",
   "metadata": {},
   "outputs": [
    {
     "name": "stdout",
     "output_type": "stream",
     "text": [
      "Requirement already satisfied: scipy in c:\\users\\asus\\anaconda3\\lib\\site-packages (1.13.1)\n",
      "Requirement already satisfied: scikit-learn in c:\\users\\asus\\anaconda3\\lib\\site-packages (1.5.2)\n",
      "Requirement already satisfied: numpy<2.3,>=1.22.4 in c:\\users\\asus\\anaconda3\\lib\\site-packages (from scipy) (2.0.2)\n",
      "Requirement already satisfied: joblib>=1.2.0 in c:\\users\\asus\\anaconda3\\lib\\site-packages (from scikit-learn) (1.4.2)\n",
      "Requirement already satisfied: threadpoolctl>=3.1.0 in c:\\users\\asus\\anaconda3\\lib\\site-packages (from scikit-learn) (3.5.0)\n"
     ]
    },
    {
     "name": "stderr",
     "output_type": "stream",
     "text": [
      "\n",
      "[notice] A new release of pip is available: 23.2.1 -> 24.2\n",
      "[notice] To update, run: python.exe -m pip install --upgrade pip\n"
     ]
    }
   ],
   "source": [
    "!pip install --upgrade scipy scikit-learn"
   ]
  },
  {
   "cell_type": "code",
   "execution_count": null,
   "id": "9116def8",
   "metadata": {},
   "outputs": [],
   "source": []
  }
 ],
 "metadata": {
  "kernelspec": {
   "display_name": "Python 3 (ipykernel)",
   "language": "python",
   "name": "python3"
  },
  "language_info": {
   "codemirror_mode": {
    "name": "ipython",
    "version": 3
   },
   "file_extension": ".py",
   "mimetype": "text/x-python",
   "name": "python",
   "nbconvert_exporter": "python",
   "pygments_lexer": "ipython3",
   "version": "3.9.13"
  }
 },
 "nbformat": 4,
 "nbformat_minor": 5
}
